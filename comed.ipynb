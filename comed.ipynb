{
 "cells": [
  {
   "cell_type": "markdown",
   "metadata": {},
   "source": [
    "Making a decision about ComEd hourly pricing\n",
    "---------------------------------\n",
    "\n",
    "ComEd, our power company, has started offering hourly pricing for electricity. I wanted to see whether it would be worth switching. I'm going to show what I did, and teach a few principles about web scraping and data analysis along the way."
   ]
  },
  {
   "cell_type": "markdown",
   "metadata": {},
   "source": [
    "Finding the data\n",
    "--------------\n",
    "\n",
    "ComEd does a great job of storing and visualizing my historical usage, at https://secure.comed.com/MyAccount/MyBillUsage/pages/secure/ViewMyUsage.aspx. My original plan was to use the great [requests library](http://docs.python-requests.org/en/master/) to log in and then scrape the data directly.\n",
    "\n",
    "However, using the network monitor in the [Firefox developer tools](https://developer.mozilla.org/en-US/docs/Tools) I was able to look at the requests that my browser was making, and figured out that ComEd actually gets this data from opower, and one of their requests had the exact data I wanted. So, instead of scraping I could just use that hidden API.\n",
    "\n",
    "If you would like to do this, you'll need to follow the same steps I did.\n",
    "\n",
    "1. Log in to ComEd, and visit https://secure.comed.com/MyAccount/MyBillUsage/pages/secure/ViewMyUsage.aspx, with Firefox developer tools open to the network monitor page\n",
    "2. Examine the network requests and look for a GET request that's something like:\n",
    "https://cec.opower.com/ei/edge/apis/DataBrowser-v1/cost/utilityAccount/3f5cbeff-3c53-11e4-ba8c-1b40f3043709?startDate=2016-06-14T05:00+0000&endDate=2018-06-13T05:00+0000&aggregateType=bill\n",
    "3. The long string in the middle is the uid that opower uses to refer to your account. Mine is '3f5cbeff-3c53-11e4-ba8c-1b40f3043709'. Copy that and save it as the `uid` variable below.\n",
    "4. Open the 'storage' tab in Firefox developer tools, go to the opower cookies, and copy and paste the JSESSIONID cookie into the JSESSIONID spot in the cookies dictionary below."
   ]
  },
  {
   "cell_type": "markdown",
   "metadata": {},
   "source": [
    "Setting variables\n",
    "-------\n",
    "First, we load libraries and set variables. Currently, this gets data for all of 2017\n"
   ]
  },
  {
   "cell_type": "code",
   "execution_count": 362,
   "metadata": {},
   "outputs": [],
   "source": [
    "%matplotlib inline\n",
    "\n",
    "from datetime import datetime\n",
    "import pandas as pd\n",
    "import matplotlib\n",
    "import numpy as np\n",
    "import matplotlib.pyplot as plt\n",
    "import seaborn as sns\n",
    "import requests\n",
    "\n",
    "# Replace the JSESSIONID with the one from your browser\n",
    "cookies = {\"cookie-check\" : \"true\",\n",
    "\"JSESSIONID\" : \"40a59fef-6bff-464c-838b-eaba043d5ed7\"}\n",
    "\n",
    "uid = '3f5cbeff-3c53-11e4-ba8c-1b40f3043709'\n",
    "\n",
    "params = {'startDate': '2017-01-01',\n",
    "         'endDate': '2017-12-01', # After some playing around, I learned this can be a max of ~11 months\n",
    "         'aggregateType': 'hour'}"
   ]
  },
  {
   "cell_type": "markdown",
   "metadata": {},
   "source": [
    "## Getting usage information\n",
    "\n",
    "This makes a request to opower to get usage information from the time period specified above. Any problems with the uid or JSESSIONID will show up here, and you'll get an error message.\n",
    "\n",
    "Note that these session ids will expire and this will only work while you are logged into ComEd."
   ]
  },
  {
   "cell_type": "code",
   "execution_count": 363,
   "metadata": {},
   "outputs": [],
   "source": [
    "r = requests.get('https://cec.opower.com/ei/edge/apis/DataBrowser-v1/cost/utilityAccount/{}'.format(uid),\n",
    "               cookies = cookies,\n",
    "                params = params)\n",
    "usage = r.json()['reads']"
   ]
  },
  {
   "cell_type": "code",
   "execution_count": 354,
   "metadata": {},
   "outputs": [],
   "source": [
    "# Simple function to change the datetime string into a datetime object and remove the timezone offset\n",
    "def to_dt(s):\n",
    "    s = s[:-3] + s[-2:]\n",
    "    with_tz = datetime.strptime(s, '%Y-%m-%dT%H:%M:%S.000%z')\n",
    "    return (with_tz - with_tz.utcoffset()).replace(tzinfo = None)"
   ]
  },
  {
   "cell_type": "code",
   "execution_count": 364,
   "metadata": {},
   "outputs": [],
   "source": [
    "# This saves the usage information as a dataframe\n",
    "usage = pd.DataFrame([{'startTime' : to_dt(x['startTime']),\n",
    "  'energy_used' : x['value']\n",
    " } for x in usage])\n",
    "\n",
    "# We take the startTime and make it the index of the dataframe\n",
    "usage = usage.set_index(pd.DatetimeIndex(usage.startTime))\n",
    "# And then just keep the column we're interested in - the energy used.\n",
    "usage = usage.energy_used"
   ]
  },
  {
   "cell_type": "code",
   "execution_count": 365,
   "metadata": {},
   "outputs": [
    {
     "data": {
      "text/plain": [
       "startTime\n",
       "2017-12-01 01:00:00    1.2200\n",
       "2017-12-01 02:00:00    0.9875\n",
       "2017-12-01 03:00:00    0.4675\n",
       "2017-12-01 04:00:00    0.4625\n",
       "2017-12-01 05:00:00    0.3325\n",
       "Name: energy_used, dtype: float64"
      ]
     },
     "execution_count": 365,
     "metadata": {},
     "output_type": "execute_result"
    }
   ],
   "source": [
    "usage.tail()"
   ]
  },
  {
   "cell_type": "markdown",
   "metadata": {},
   "source": [
    "We now have usage, which is a pandas Series of how much energy I used each hour of each day in 2017.\n",
    "\n",
    "Let's plot how much we used per week."
   ]
  },
  {
   "cell_type": "code",
   "execution_count": 366,
   "metadata": {
    "scrolled": false
   },
   "outputs": [
    {
     "data": {
      "text/plain": [
       "<matplotlib.axes._subplots.AxesSubplot at 0x7fabdc7c21d0>"
      ]
     },
     "execution_count": 366,
     "metadata": {},
     "output_type": "execute_result"
    },
    {
     "data": {
      "image/png": "[encoded data removed]",
      "text/plain": [
       "<matplotlib.figure.Figure at 0x7fabdc7c5be0>"
      ]
     },
     "metadata": {},
     "output_type": "display_data"
    }
   ],
   "source": [
    "# Resample takes a time series, and aggregates it by the string passed to it. 'W' is for week.\n",
    "usage.resample('W').sum().plot() "
   ]
  },
  {
   "cell_type": "markdown",
   "metadata": {},
   "source": [
    "Next, we can get the prices. This is from a public API."
   ]
  },
  {
   "cell_type": "code",
   "execution_count": 367,
   "metadata": {},
   "outputs": [],
   "source": [
    "# The parameters are a bit different, so we edit the params dictionary\n",
    "params['datestart'] = datetime.strftime(datetime.strptime(params['startDate'], '%Y-%m-%d'), '%Y%m%d%H%M')\n",
    "params['dateend'] = datetime.strftime(datetime.strptime(params['endDate'], '%Y-%m-%d'), '%Y%m%d%H%M')\n",
    "\n",
    "r = requests.get('https://hourlypricing.comed.com/api?type=5minutefeed',\n",
    "                 params = params,\n",
    "                cookies = cookies)\n",
    "prices = r.json()"
   ]
  },
  {
   "cell_type": "code",
   "execution_count": 368,
   "metadata": {},
   "outputs": [],
   "source": [
    "# Again, we make a dataframe\n",
    "prices = pd.DataFrame(prices)\n",
    "# This time, the date is a timestamp, but we still convert it to datetime and save it as the index\n",
    "prices = prices.set_index(pd.DatetimeIndex(\n",
    "    prices['millisUTC'].apply(lambda x: datetime.utcfromtimestamp(int(x)/1000))))\n",
    "# And again, we discard what we don't need and save just the prices as a series\n",
    "prices = prices.price.apply(float)"
   ]
  },
  {
   "cell_type": "markdown",
   "metadata": {},
   "source": [
    "I think digging into this price data could be really interesting, but this is a superficial plot of the weekly prices. Notice that the average weekly price never gets above 4.5 cents per kwh, which is much lower than the ~6.5-7 cents that you get with flat pricing."
   ]
  },
  {
   "cell_type": "code",
   "execution_count": 369,
   "metadata": {},
   "outputs": [
    {
     "data": {
      "text/plain": [
       "<matplotlib.axes._subplots.AxesSubplot at 0x7fabdc401908>"
      ]
     },
     "execution_count": 369,
     "metadata": {},
     "output_type": "execute_result"
    },
    {
     "data": {
      "image/png": "[encoded data removed]",
      "text/plain": [
       "<matplotlib.figure.Figure at 0x7fabdc7a3828>"
      ]
     },
     "metadata": {},
     "output_type": "display_data"
    }
   ],
   "source": [
    "prices.resample('W').mean().plot()"
   ]
  },
  {
   "cell_type": "markdown",
   "metadata": {},
   "source": [
    "Let's look at the worst-case examples. Here are the 10 highest priced hours."
   ]
  },
  {
   "cell_type": "code",
   "execution_count": 503,
   "metadata": {},
   "outputs": [
    {
     "data": {
      "text/plain": [
       "millisUTC\n",
       "2017-09-21 18:00:00    74.425000\n",
       "2017-09-21 20:00:00    55.150000\n",
       "2017-07-06 19:00:00    39.783333\n",
       "2017-09-21 19:00:00    25.970000\n",
       "2017-07-27 14:00:00    19.425000\n",
       "2017-09-20 21:00:00    17.483333\n",
       "2017-09-20 18:00:00    17.241667\n",
       "2017-09-22 18:00:00    15.308333\n",
       "2017-07-26 17:00:00    14.933333\n",
       "2017-07-19 20:00:00    14.358333\n",
       "Name: price, dtype: float64"
      ]
     },
     "execution_count": 503,
     "metadata": {},
     "output_type": "execute_result"
    }
   ],
   "source": [
    "worst_prices = prices.resample('H').mean().sort_values(ascending = False).head(10)\n",
    "worst_prices"
   ]
  },
  {
   "cell_type": "markdown",
   "metadata": {},
   "source": [
    "And they are pretty high - let's see what the worst case, most expensive hour of electricity might be. Here are my top usage hours."
   ]
  },
  {
   "cell_type": "code",
   "execution_count": 504,
   "metadata": {},
   "outputs": [
    {
     "data": {
      "text/plain": [
       "startTime\n",
       "2017-06-18 05:00:00    4.6050\n",
       "2017-06-12 22:00:00    4.5925\n",
       "2017-06-12 23:00:00    4.4500\n",
       "2017-06-18 03:00:00    4.4500\n",
       "2017-06-18 04:00:00    4.4100\n",
       "2017-08-01 00:00:00    4.4075\n",
       "2017-06-18 06:00:00    4.3325\n",
       "2017-07-07 02:00:00    4.2825\n",
       "2017-06-13 00:00:00    4.2450\n",
       "2017-06-11 22:00:00    4.2425\n",
       "Name: energy_used, dtype: float64"
      ]
     },
     "execution_count": 504,
     "metadata": {},
     "output_type": "execute_result"
    }
   ],
   "source": [
    "highest_use = usage.sort_values(ascending = False).head(10)\n",
    "highest_use"
   ]
  },
  {
   "cell_type": "markdown",
   "metadata": {},
   "source": [
    "Here are the worst possible outcomes, if my highest hours happened at the most expensive times. The worst one is $3.42"
   ]
  },
  {
   "cell_type": "code",
   "execution_count": 505,
   "metadata": {},
   "outputs": [
    {
     "data": {
      "text/plain": [
       "0    3.427271\n",
       "1    2.532764\n",
       "2    1.770358\n",
       "3    1.155665\n",
       "4    0.856643\n",
       "5    0.770578\n",
       "6    0.746995\n",
       "7    0.655579\n",
       "8    0.633920\n",
       "9    0.609152\n",
       "dtype: float64"
      ]
     },
     "execution_count": 505,
     "metadata": {},
     "output_type": "execute_result"
    }
   ],
   "source": [
    "pd.Series(worst_prices.values * highest_use.values)/100"
   ]
  },
  {
   "cell_type": "markdown",
   "metadata": {},
   "source": [
    "I then put all of these into a dataframe, to make sure that the dates match up."
   ]
  },
  {
   "cell_type": "code",
   "execution_count": 389,
   "metadata": {},
   "outputs": [],
   "source": [
    "mean_prices = prices.resample('H').mean()\n",
    "df = pd.DataFrame({'usage' : usage,\n",
    "                  'price' : mean_prices})\n"
   ]
  },
  {
   "cell_type": "markdown",
   "metadata": {},
   "source": [
    "It's always a good idea to make sure that the data look good. Let's check for NAs:\n"
   ]
  },
  {
   "cell_type": "code",
   "execution_count": 388,
   "metadata": {},
   "outputs": [
    {
     "data": {
      "text/html": [
       "<div>\n",
       "<style scoped>\n",
       "    .dataframe tbody tr th:only-of-type {\n",
       "        vertical-align: middle;\n",
       "    }\n",
       "\n",
       "    .dataframe tbody tr th {\n",
       "        vertical-align: top;\n",
       "    }\n",
       "\n",
       "    .dataframe thead th {\n",
       "        text-align: right;\n",
       "    }\n",
       "</style>\n",
       "<table border=\"1\" class=\"dataframe\">\n",
       "  <thead>\n",
       "    <tr style=\"text-align: right;\">\n",
       "      <th></th>\n",
       "      <th>price</th>\n",
       "      <th>usage</th>\n",
       "    </tr>\n",
       "  </thead>\n",
       "  <tbody>\n",
       "    <tr>\n",
       "      <th>2017-03-19 22:00:00</th>\n",
       "      <td>NaN</td>\n",
       "      <td>0.1775</td>\n",
       "    </tr>\n",
       "    <tr>\n",
       "      <th>2017-03-19 23:00:00</th>\n",
       "      <td>NaN</td>\n",
       "      <td>0.2225</td>\n",
       "    </tr>\n",
       "    <tr>\n",
       "      <th>2017-03-20 00:00:00</th>\n",
       "      <td>NaN</td>\n",
       "      <td>0.2475</td>\n",
       "    </tr>\n",
       "    <tr>\n",
       "      <th>2017-03-20 01:00:00</th>\n",
       "      <td>NaN</td>\n",
       "      <td>0.1775</td>\n",
       "    </tr>\n",
       "    <tr>\n",
       "      <th>2017-03-30 05:00:00</th>\n",
       "      <td>NaN</td>\n",
       "      <td>0.1200</td>\n",
       "    </tr>\n",
       "    <tr>\n",
       "      <th>2017-03-30 06:00:00</th>\n",
       "      <td>NaN</td>\n",
       "      <td>0.1075</td>\n",
       "    </tr>\n",
       "    <tr>\n",
       "      <th>2017-03-30 07:00:00</th>\n",
       "      <td>NaN</td>\n",
       "      <td>0.1250</td>\n",
       "    </tr>\n",
       "    <tr>\n",
       "      <th>2017-03-30 08:00:00</th>\n",
       "      <td>NaN</td>\n",
       "      <td>0.1325</td>\n",
       "    </tr>\n",
       "    <tr>\n",
       "      <th>2017-03-30 09:00:00</th>\n",
       "      <td>NaN</td>\n",
       "      <td>0.0925</td>\n",
       "    </tr>\n",
       "    <tr>\n",
       "      <th>2017-03-30 10:00:00</th>\n",
       "      <td>NaN</td>\n",
       "      <td>0.1325</td>\n",
       "    </tr>\n",
       "    <tr>\n",
       "      <th>2017-03-30 11:00:00</th>\n",
       "      <td>NaN</td>\n",
       "      <td>0.1650</td>\n",
       "    </tr>\n",
       "    <tr>\n",
       "      <th>2017-03-30 12:00:00</th>\n",
       "      <td>NaN</td>\n",
       "      <td>1.0225</td>\n",
       "    </tr>\n",
       "    <tr>\n",
       "      <th>2017-03-30 13:00:00</th>\n",
       "      <td>NaN</td>\n",
       "      <td>0.8050</td>\n",
       "    </tr>\n",
       "    <tr>\n",
       "      <th>2017-03-30 14:00:00</th>\n",
       "      <td>NaN</td>\n",
       "      <td>0.5400</td>\n",
       "    </tr>\n",
       "    <tr>\n",
       "      <th>2017-03-30 15:00:00</th>\n",
       "      <td>NaN</td>\n",
       "      <td>0.5025</td>\n",
       "    </tr>\n",
       "    <tr>\n",
       "      <th>2017-03-30 16:00:00</th>\n",
       "      <td>NaN</td>\n",
       "      <td>0.6250</td>\n",
       "    </tr>\n",
       "    <tr>\n",
       "      <th>2017-03-30 17:00:00</th>\n",
       "      <td>NaN</td>\n",
       "      <td>0.7850</td>\n",
       "    </tr>\n",
       "    <tr>\n",
       "      <th>2017-06-01 15:00:00</th>\n",
       "      <td>NaN</td>\n",
       "      <td>0.1875</td>\n",
       "    </tr>\n",
       "    <tr>\n",
       "      <th>2017-06-01 16:00:00</th>\n",
       "      <td>NaN</td>\n",
       "      <td>0.2400</td>\n",
       "    </tr>\n",
       "    <tr>\n",
       "      <th>2017-09-30 04:00:00</th>\n",
       "      <td>NaN</td>\n",
       "      <td>0.1500</td>\n",
       "    </tr>\n",
       "    <tr>\n",
       "      <th>2017-11-01 07:00:00</th>\n",
       "      <td>NaN</td>\n",
       "      <td>0.1475</td>\n",
       "    </tr>\n",
       "    <tr>\n",
       "      <th>2017-11-05 05:00:00</th>\n",
       "      <td>NaN</td>\n",
       "      <td>0.1350</td>\n",
       "    </tr>\n",
       "    <tr>\n",
       "      <th>2017-11-05 06:00:00</th>\n",
       "      <td>NaN</td>\n",
       "      <td>0.0850</td>\n",
       "    </tr>\n",
       "    <tr>\n",
       "      <th>2017-11-05 07:00:00</th>\n",
       "      <td>NaN</td>\n",
       "      <td>NaN</td>\n",
       "    </tr>\n",
       "  </tbody>\n",
       "</table>\n",
       "</div>"
      ],
      "text/plain": [
       "                     price   usage\n",
       "2017-03-19 22:00:00    NaN  0.1775\n",
       "2017-03-19 23:00:00    NaN  0.2225\n",
       "2017-03-20 00:00:00    NaN  0.2475\n",
       "2017-03-20 01:00:00    NaN  0.1775\n",
       "2017-03-30 05:00:00    NaN  0.1200\n",
       "2017-03-30 06:00:00    NaN  0.1075\n",
       "2017-03-30 07:00:00    NaN  0.1250\n",
       "2017-03-30 08:00:00    NaN  0.1325\n",
       "2017-03-30 09:00:00    NaN  0.0925\n",
       "2017-03-30 10:00:00    NaN  0.1325\n",
       "2017-03-30 11:00:00    NaN  0.1650\n",
       "2017-03-30 12:00:00    NaN  1.0225\n",
       "2017-03-30 13:00:00    NaN  0.8050\n",
       "2017-03-30 14:00:00    NaN  0.5400\n",
       "2017-03-30 15:00:00    NaN  0.5025\n",
       "2017-03-30 16:00:00    NaN  0.6250\n",
       "2017-03-30 17:00:00    NaN  0.7850\n",
       "2017-06-01 15:00:00    NaN  0.1875\n",
       "2017-06-01 16:00:00    NaN  0.2400\n",
       "2017-09-30 04:00:00    NaN  0.1500\n",
       "2017-11-01 07:00:00    NaN  0.1475\n",
       "2017-11-05 05:00:00    NaN  0.1350\n",
       "2017-11-05 06:00:00    NaN  0.0850\n",
       "2017-11-05 07:00:00    NaN     NaN"
      ]
     },
     "execution_count": 388,
     "metadata": {},
     "output_type": "execute_result"
    }
   ],
   "source": [
    "df[df.isna().any(axis=1)]"
   ]
  },
  {
   "cell_type": "markdown",
   "metadata": {},
   "source": [
    "The prices are missing for a few days in March, which is odd. I have no idea why there is one missing row in November.\n",
    "\n",
    "There are a number of ways of dealing with missing data. For our purposes, I'm looking for a rough estimate, and using a linear interpolation for the rows for which we have data seems a reasonable estimate. Pandas has this built in."
   ]
  },
  {
   "cell_type": "code",
   "execution_count": 391,
   "metadata": {},
   "outputs": [],
   "source": [
    "df = df.interpolate(method='time')"
   ]
  },
  {
   "cell_type": "markdown",
   "metadata": {},
   "source": [
    "This is what it looks like. It just draws a straight line from the last known data point to the next known data point."
   ]
  },
  {
   "cell_type": "code",
   "execution_count": 394,
   "metadata": {},
   "outputs": [
    {
     "data": {
      "text/plain": [
       "<matplotlib.axes._subplots.AxesSubplot at 0x7fabdc6766a0>"
      ]
     },
     "execution_count": 394,
     "metadata": {},
     "output_type": "execute_result"
    },
    {
     "data": {
      "image/png": "[encoded data removed]",
      "text/plain": [
       "<matplotlib.figure.Figure at 0x7fabdc67fb00>"
      ]
     },
     "metadata": {},
     "output_type": "display_data"
    }
   ],
   "source": [
    "df.price[(df.index > '2017-03-29') & (df.index < '2017-03-31')].plot()"
   ]
  },
  {
   "cell_type": "markdown",
   "metadata": {},
   "source": [
    "Let's look at the worst-case examples. Here are the 10 highest priced hours."
   ]
  },
  {
   "cell_type": "code",
   "execution_count": 507,
   "metadata": {},
   "outputs": [
    {
     "data": {
      "text/plain": [
       "2017-09-21 18:00:00    74.425000\n",
       "2017-09-21 20:00:00    55.150000\n",
       "2017-07-06 19:00:00    39.783333\n",
       "2017-09-21 19:00:00    25.970000\n",
       "2017-07-27 14:00:00    19.425000\n",
       "2017-09-20 21:00:00    17.483333\n",
       "2017-09-20 18:00:00    17.241667\n",
       "2017-09-22 18:00:00    15.308333\n",
       "2017-07-26 17:00:00    14.933333\n",
       "2017-07-19 20:00:00    14.358333\n",
       "Name: price, dtype: float64"
      ]
     },
     "execution_count": 507,
     "metadata": {},
     "output_type": "execute_result"
    }
   ],
   "source": [
    "worst_prices = df.price.resample('H').mean().sort_values(ascending = False).head(10)\n",
    "worst_prices"
   ]
  },
  {
   "cell_type": "markdown",
   "metadata": {},
   "source": [
    "And they are pretty high - let's see what the worst case, most expensive hour of electricity might be. Here are my top usage hours."
   ]
  },
  {
   "cell_type": "code",
   "execution_count": 504,
   "metadata": {},
   "outputs": [
    {
     "data": {
      "text/plain": [
       "startTime\n",
       "2017-06-18 05:00:00    4.6050\n",
       "2017-06-12 22:00:00    4.5925\n",
       "2017-06-12 23:00:00    4.4500\n",
       "2017-06-18 03:00:00    4.4500\n",
       "2017-06-18 04:00:00    4.4100\n",
       "2017-08-01 00:00:00    4.4075\n",
       "2017-06-18 06:00:00    4.3325\n",
       "2017-07-07 02:00:00    4.2825\n",
       "2017-06-13 00:00:00    4.2450\n",
       "2017-06-11 22:00:00    4.2425\n",
       "Name: energy_used, dtype: float64"
      ]
     },
     "execution_count": 504,
     "metadata": {},
     "output_type": "execute_result"
    }
   ],
   "source": [
    "highest_use = usage.sort_values(ascending = False).head(10)\n",
    "highest_use"
   ]
  },
  {
   "cell_type": "markdown",
   "metadata": {},
   "source": [
    "Here are the worst possible outcomes, if my highest hours happened at the most expensive times. The worst one is $3.42"
   ]
  },
  {
   "cell_type": "code",
   "execution_count": 505,
   "metadata": {},
   "outputs": [
    {
     "data": {
      "text/plain": [
       "0    3.427271\n",
       "1    2.532764\n",
       "2    1.770358\n",
       "3    1.155665\n",
       "4    0.856643\n",
       "5    0.770578\n",
       "6    0.746995\n",
       "7    0.655579\n",
       "8    0.633920\n",
       "9    0.609152\n",
       "dtype: float64"
      ]
     },
     "execution_count": 505,
     "metadata": {},
     "output_type": "execute_result"
    }
   ],
   "source": [
    "pd.Series(worst_prices.values * highest_use.values)/100"
   ]
  },
  {
   "cell_type": "markdown",
   "metadata": {},
   "source": [
    "To get how much I would have paid for electricity, I multiply the mean hourly prices by the amount of electricity I used in that hour."
   ]
  },
  {
   "cell_type": "code",
   "execution_count": 395,
   "metadata": {},
   "outputs": [],
   "source": [
    "hourly_cost = (df.price * df.usage)/100 # Divide by 100 since these are cents."
   ]
  },
  {
   "cell_type": "markdown",
   "metadata": {},
   "source": [
    "Now, when we look at the total cost, it's similar to the usage plot, but October is a lot more expensive, because of the high cost."
   ]
  },
  {
   "cell_type": "code",
   "execution_count": 398,
   "metadata": {},
   "outputs": [
    {
     "data": {
      "text/plain": [
       "<matplotlib.axes._subplots.AxesSubplot at 0x7fabdc528c88>"
      ]
     },
     "execution_count": 398,
     "metadata": {},
     "output_type": "execute_result"
    },
    {
     "data": {
      "image/png": "[encoded data removed]",
      "text/plain": [
       "<matplotlib.figure.Figure at 0x7fabdc533208>"
      ]
     },
     "metadata": {},
     "output_type": "display_data"
    }
   ],
   "source": [
    "hourly_cost.resample('W').sum().plot()"
   ]
  },
  {
   "cell_type": "markdown",
   "metadata": {},
   "source": [
    "And so what are my actual most expensive hours I would have had (remember, $3.42 was the worst possible)"
   ]
  },
  {
   "cell_type": "code",
   "execution_count": 501,
   "metadata": {},
   "outputs": [
    {
     "data": {
      "text/plain": [
       "2017-09-21 20:00:00    1.702756\n",
       "2017-09-21 18:00:00    0.997295\n",
       "2017-07-06 19:00:00    0.618631\n",
       "2017-06-12 21:00:00    0.355117\n",
       "2017-09-21 21:00:00    0.279870\n",
       "dtype: float64"
      ]
     },
     "execution_count": 501,
     "metadata": {},
     "output_type": "execute_result"
    }
   ],
   "source": [
    "hourly_cost.sort_values(ascending = False).head()"
   ]
  },
  {
   "cell_type": "markdown",
   "metadata": {},
   "source": [
    "Only one hour above \\$1, and only 3 above \\$0.50."
   ]
  },
  {
   "cell_type": "markdown",
   "metadata": {},
   "source": [
    "## Getting real bills\n",
    "\n",
    "Finally, I can make some estimates, and compare to my actual bills. https://secure.comed.com/MyAccount/MyBillUsage/Pages/Secure/AccountHistory.aspx shows bills. I couldn't scrape this easily for this data, so I just copied it.\n",
    "\n",
    "*Note*: Make sure to just get the supplier portion - not the whole bill."
   ]
  },
  {
   "cell_type": "code",
   "execution_count": 467,
   "metadata": {},
   "outputs": [],
   "source": [
    "bills = pd.DataFrame([('12/01/2017', 20.16),\n",
    "('10/31/2017', 14.66),\n",
    "('10/02/2017', 16.73),\n",
    "('09/01/2017', 15.47),\n",
    "('08/03/2017', 22.93),\n",
    "('07/05/2017', 29.29),\n",
    "('06/05/2017', 10.21),\n",
    "('05/04/2017', 11.88),\n",
    "('04/05/2017', 16.43),\n",
    "('03/07/2017', 17.54),\n",
    "('02/06/2017', 19.57),\n",
    "('01/05/2017', 20.37),\n",
    "], columns = ['date', 'amount'])\n",
    "\n",
    "bills = bills.set_index(pd.DatetimeIndex(bills.date)).amount\n",
    "bills = bills.sort_index()"
   ]
  },
  {
   "cell_type": "markdown",
   "metadata": {},
   "source": [
    "Here's the plot. Spring and fall are great, but summer and winter are killers."
   ]
  },
  {
   "cell_type": "code",
   "execution_count": 468,
   "metadata": {},
   "outputs": [
    {
     "data": {
      "text/plain": [
       "<matplotlib.axes._subplots.AxesSubplot at 0x7fabdb9b42b0>"
      ]
     },
     "execution_count": 468,
     "metadata": {},
     "output_type": "execute_result"
    },
    {
     "data": {
      "image/png": "[encoded data removed]",
      "text/plain": [
       "<matplotlib.figure.Figure at 0x7fabdbe21f28>"
      ]
     },
     "metadata": {},
     "output_type": "display_data"
    }
   ],
   "source": [
    "bills.plot()"
   ]
  },
  {
   "cell_type": "markdown",
   "metadata": {},
   "source": [
    "Now, let's combine the two data sources. I'm sure there's a fancy way to do this with pandas, but I'm going back to a good old-fashioned for loop."
   ]
  },
  {
   "cell_type": "code",
   "execution_count": 448,
   "metadata": {},
   "outputs": [],
   "source": [
    "start_date = None\n",
    "hourly_estimate = [] # List to store the estimates for the hourly pricing\n",
    "for end_date in bills.index: # Loop through the dates of the bills\n",
    "    if start_date: # We have to start on the second bill\n",
    "        # And then we just get the sum of the hourly costs from the time of the first bill to the time of the\n",
    "        # current bill\n",
    "        hourly_estimate.append(sum(hourly_cost[(hourly_cost.index > start_date) & \n",
    "                                         (hourly_cost.index <= end_date)]))\n",
    "    start_date = end_date # And reset the start date to the current bill date\n",
    "        "
   ]
  },
  {
   "cell_type": "markdown",
   "metadata": {},
   "source": [
    "## The final plot\n",
    "\n",
    "\n",
    "And then combine these into a dataframe, and make the plot that all this work was for."
   ]
  },
  {
   "cell_type": "code",
   "execution_count": 469,
   "metadata": {},
   "outputs": [],
   "source": [
    "comparison = pd.DataFrame({'hourly_estimate': [None] + hourly_estimate,\n",
    "                           'current' : bills})"
   ]
  },
  {
   "cell_type": "code",
   "execution_count": 470,
   "metadata": {},
   "outputs": [
    {
     "data": {
      "text/plain": [
       "<matplotlib.axes._subplots.AxesSubplot at 0x7fabdbd987b8>"
      ]
     },
     "execution_count": 470,
     "metadata": {},
     "output_type": "execute_result"
    },
    {
     "data": {
      "image/png": "[encoded data removed]",
      "text/plain": [
       "<matplotlib.figure.Figure at 0x7fabdcad9860>"
      ]
     },
     "metadata": {},
     "output_type": "display_data"
    }
   ],
   "source": [
    "comparison.plot()"
   ]
  },
  {
   "cell_type": "markdown",
   "metadata": {},
   "source": [
    "Whoa! It looks like this would save us money, every month without exception, and without changing behavior. I thought that we'd see at least the summer be more expensive but that's actually the greatest delta.\n",
    "\n",
    "Here's an estimate of how much we would save each month."
   ]
  },
  {
   "cell_type": "code",
   "execution_count": 473,
   "metadata": {},
   "outputs": [
    {
     "data": {
      "text/plain": [
       "date\n",
       "2017-01-05          NaN\n",
       "2017-02-06    10.822409\n",
       "2017-03-07    11.259954\n",
       "2017-04-05     9.166607\n",
       "2017-05-04     7.046169\n",
       "2017-06-05     4.947289\n",
       "2017-07-05    17.110177\n",
       "2017-08-03     9.978337\n",
       "2017-09-01     9.316502\n",
       "2017-10-02     5.188789\n",
       "2017-10-31     9.118162\n",
       "2017-12-01    11.883152\n",
       "dtype: float64"
      ]
     },
     "execution_count": 473,
     "metadata": {},
     "output_type": "execute_result"
    }
   ],
   "source": [
    "(comparison.current - comparison.hourly_estimate)"
   ]
  },
  {
   "cell_type": "markdown",
   "metadata": {},
   "source": [
    "And how much would we save in the year?"
   ]
  },
  {
   "cell_type": "code",
   "execution_count": 500,
   "metadata": {},
   "outputs": [
    {
     "data": {
      "text/plain": [
       "105.8375473419011"
      ]
     },
     "execution_count": 500,
     "metadata": {},
     "output_type": "execute_result"
    }
   ],
   "source": [
    "(comparison.current - comparison.hourly_estimate).sum()"
   ]
  },
  {
   "cell_type": "markdown",
   "metadata": {},
   "source": [
    "## The Decision\n",
    "\n",
    "This analysis shows that for us, moving to hourly pricing is an easy decision, and I signed up!"
   ]
  }
 ],
 "metadata": {
  "kernelspec": {
   "display_name": "Python 3",
   "language": "python",
   "name": "python3"
  },
  "language_info": {
   "codemirror_mode": {
    "name": "ipython",
    "version": 3
   },
   "file_extension": ".py",
   "mimetype": "text/x-python",
   "name": "python",
   "nbconvert_exporter": "python",
   "pygments_lexer": "ipython3",
   "version": "3.5.3"
  }
 },
 "nbformat": 4,
 "nbformat_minor": 2
}
