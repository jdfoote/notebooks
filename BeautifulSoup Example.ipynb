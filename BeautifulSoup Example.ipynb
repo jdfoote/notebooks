{
 "cells": [
  {
   "cell_type": "markdown",
   "metadata": {},
   "source": [
    "# Beautiful Soup example\n",
    "\n",
    "I use Google Calendar to organize my life, so I was disappointed--nay, horrified--when I learned that Purdue didn't provide any sort of reasonable format for the calendar,  only a webpage or a PDF document (this year's offical calendar is at https://www.purdue.edu/registrar/calendars/2019-20-Academic-Calendar.html)\n",
    "\n",
    "So, I decided to write a little script to grab the information from the website and put it into a CSV file that Google Calendar can understand (CSV format for their calendars taken from https://support.google.com/calendar/answer/37118?hl=en).\n",
    "\n",
    "I'm writing this up and publishing it for two audiences: first, other Purdue community members who want to import the calendar into their own calendar program (although the easier way is to just subscribe to my [public Google calendar](https://calendar.google.com/calendar?cid=NDBzbmdyYzcwNXMyZXJoNTBqYWcyNjhicWdAZ3JvdXAuY2FsZW5kYXIuZ29vZ2xlLmNvbQ)) and as an example of doing screen scraping with Beautiful Soup."
   ]
  },
  {
   "cell_type": "code",
   "execution_count": 51,
   "metadata": {},
   "outputs": [],
   "source": [
    "# First, we import the required libraries\n",
    "import requests # This fetches the webpage\n",
    "from bs4 import BeautifulSoup # This is the parsing library\n",
    "from datetime import datetime, timedelta # Need to convert things to/from date objects\n",
    "import re # Regular expressions\n",
    "import pandas as pd # Pandas, just for exporting the final result"
   ]
  },
  {
   "cell_type": "markdown",
   "metadata": {},
   "source": [
    "The first step is to download the webpage as HTML, and then to parse it into a soup object."
   ]
  },
  {
   "cell_type": "code",
   "execution_count": 6,
   "metadata": {},
   "outputs": [],
   "source": [
    "doc = requests.get('https://www.purdue.edu/registrar/calendars/2019-20-Academic-Calendar.html')\n",
    "soup = BeautifulSoup(doc.text)"
   ]
  },
  {
   "cell_type": "markdown",
   "metadata": {},
   "source": [
    "At this point, it makes sense to explore the structure of the page. You could look at the HTML or at the soup object but it's usually much easier to right click on the page itself and \"Inspect\" it (both Chrome and Firefox have this).\n",
    "\n",
    "What we want to do is figure out a good path to the data that we want. What we want are the dates and the descriptions for the events. If you look at the page, it's structured something like this (with irrelevant portions omitted):\n",
    "\n",
    "```\n",
    "<html>\n",
    "    ...\n",
    "    <div class = \"maincontent col-lg-9 col-md-9 col-sm-9 right\">\n",
    "        <h4> August </h4>\n",
    "        ...\n",
    "        <table>\n",
    "            <tr>\n",
    "                <td class=\"day noGutterLeft col-lg-1 col-md-2 col-sm-2 col-xs-3\">\n",
    "                    19\n",
    "                </td>\n",
    "                <td class=\"description col-lg-11 col-md-10 col-sm-10 col-xs-9\">\n",
    "                    <strong>7:30 a.m.</strong><br>\n",
    "                    FALL SEMESTER CLASSES BEGIN\n",
    "                </td>\n",
    "                ...\n",
    "            </tr>\n",
    "        </table>\n",
    "        ...\n",
    "        <h4> September </h4>\n",
    "        ...\n",
    "    </div>\n",
    "   ...\n",
    "</html>\n",
    "```\n",
    "\n",
    "What we're looking for are unique descriptors that will get us the data we're looking for and nothing else.\n",
    "\n",
    "All of the calendar data is in the div with the 'maincontent' class, so we'll use that to limit our search. Then, dates are in `<h4>` tags, followed by a table with a row for each entry in the calendar for that month.\n",
    "\n",
    "At this point, it takes some playing around to find the right syntax. It turns out that each month header is followed directly by the table of the events, making the event table the 'sibling' of the month, which we can access with BeautifulSoup's `find_nex_sibling()` function."
   ]
  },
  {
   "cell_type": "code",
   "execution_count": 29,
   "metadata": {},
   "outputs": [
    {
     "name": "stdout",
     "output_type": "stream",
     "text": [
      "August\n",
      "<table class=\"calendarTable\" summary=\"blah\">\n",
      "<tbody>\n",
      "<tr>\n",
      "<td class=\"day noGutterLeft col-lg-1 col-md-2 col-sm-2 col-xs-3\">19</td>\n",
      "<td class=\"description col-lg-11 col-md-10 col-sm-10 col-xs-9\"><strong>7:30 a.m.</strong><br/>FALL SEMESTER CLASSES BEGIN</td>\n",
      "<td class=\"weekDay noGutterLeft col-lg-1 col-md-2 col-sm-2 col-xs-3\">Mon</td>\n",
      "</tr>\n",
      "<tr>\n",
      "<td class=\"day noGutterLeft col-lg-1 col-md-2 col-sm-2 col-xs-3\">26</td>\n",
      "<td class=\"description col-lg-11 col-md-10 col-sm-10 col-xs-9\"><strong>5 p.m.</strong><br/>Last Day to Register Without a Late Fee</td>\n",
      "<td class=\"weekDay noGutterLeft col-lg-1 col-md-2 col-sm-2 col-xs-3\">Mon</td>\n",
      "</tr>\n",
      "</tbody>\n",
      "</table>\n",
      "September\n",
      "<table class=\"calendarTable\" summary=\"blah\">\n",
      "<tbody>\n",
      "<tr>\n",
      "<td class=\"day noGutterLeft col-lg-1 col-md-2 col-sm-2 col-xs-3\">2</td>\n",
      "<td class=\"description col-lg-11 col-md-10 col-sm-10 col-xs-9\">Last Day to Cancel a Course Assignment Without It Appearing On Record</td>\n",
      "<td class=\"weekDay noGutterLeft col-lg-1 col-md-2 col-sm-2 col-xs-3\">Mon</td>\n",
      "</tr>\n",
      "<tr>\n",
      "<td class=\"day noGutterLeft col-lg-1 col-md-2 col-sm-2 col-xs-3\">2</td>\n",
      "<td class=\"description col-lg-11 col-md-10 col-sm-10 col-xs-9\">LABOR DAY (No Classes)</td>\n",
      "<td class=\"weekDay noGutterLeft col-lg-1 col-md-2 col-sm-2 col-xs-3\">Mon</td>\n",
      "</tr>\n",
      "<tr>\n",
      "<td class=\"day noGutterLeft col-lg-1 col-md-2 col-sm-2 col-xs-3\">16</td>\n",
      "<td class=\"description col-lg-11 col-md-10 col-sm-10 col-xs-9\"><strong><strong>5 p.m.</strong><br/></strong>Last Day to Withdraw a Course With a Grade of W or to Add/Modify a Course With Instructor and Advisor Signature</td>\n",
      "<td class=\"weekDay noGutterLeft col-lg-1 col-md-2 col-sm-2 col-xs-3\">Mon</td>\n",
      "</tr>\n",
      "<tr>\n",
      "<td class=\"day noGutterLeft col-lg-1 col-md-2 col-sm-2 col-xs-3\">30</td>\n",
      "<td class=\"description col-lg-11 col-md-10 col-sm-10 col-xs-9\"><strong><strong><strong>5 p.m.</strong><br/></strong></strong>Last Day For Grade Correction for Spring Semester 2018-19 and 2019 Summer Session</td>\n",
      "<td class=\"weekDay noGutterLeft col-lg-1 col-md-2 col-sm-2 col-xs-3\">Mon</td>\n",
      "</tr>\n",
      "</tbody>\n",
      "</table>\n"
     ]
    }
   ],
   "source": [
    "for item in soup.find('div', 'maincontent').find_all('h4')[:2]: # Only looking at the first few for testing\n",
    "    print(item.text) # Should be the month\n",
    "    table = item.find_next_sibling()\n",
    "    print(table)"
   ]
  },
  {
   "cell_type": "markdown",
   "metadata": {},
   "source": [
    "### Parsing the table\n",
    "\n",
    "This looks really good, so the next step is just to extract the content from the table.\n",
    "\n",
    "Each event has its own row, so we parse the table to find the `<td>` tags with the information we're looking for."
   ]
  },
  {
   "cell_type": "code",
   "execution_count": 31,
   "metadata": {},
   "outputs": [
    {
     "name": "stdout",
     "output_type": "stream",
     "text": [
      "August 19 7:30 a.m.FALL SEMESTER CLASSES BEGIN\n",
      "August 26 5 p.m.Last Day to Register Without a Late Fee\n",
      "September 2 Last Day to Cancel a Course Assignment Without It Appearing On Record\n",
      "September 2 LABOR DAY (No Classes)\n",
      "September 16 5 p.m.Last Day to Withdraw a Course With a Grade of W or to Add/Modify a Course With Instructor and Advisor Signature\n",
      "September 30 5 p.m.Last Day For Grade Correction for Spring Semester 2018-19 and 2019 Summer Session\n",
      "October 7 \n",
      "Schedule of Classes published for Spring 2020 Term\n",
      "\n",
      "October 7-8 \n",
      "OCTOBER BREAK\n",
      "\n",
      "October 16 \n",
      "7:30 a.m.Second Eight-Week Courses Begin\n",
      "\n",
      "October 22 \n",
      "5 p.m.Last Day To Withdraw From a Course With a W or WF Grade\n",
      "\n",
      "October 22 \n",
      "5 p.m.Last Day To Add/Modify a Course With Instructor, Advisor, and Department Head Signatures\n",
      "\n"
     ]
    }
   ],
   "source": [
    "for item in soup.find('div', 'maincontent').find_all('h4')[:3]:\n",
    "    curr_month = item.text\n",
    "    table = item.find_next_sibling()\n",
    "    for event in table.find_all('tr'):\n",
    "        day_string = event.find('td', 'day').text # Get the text from the table cell with the 'day' class\n",
    "        description_string = event.find('td', 'description').text\n",
    "        print(curr_month, day_string, description_string)"
   ]
  },
  {
   "cell_type": "markdown",
   "metadata": {},
   "source": [
    "### Data Cleaning\n",
    "\n",
    "It looks like we have the data that we need, but we need to deal with two problems.\n",
    "\n",
    "First, some events include a start date and an end date (e.g., October 7-8), so we need to figure out how to deal with that.\n",
    "\n",
    "Second, the descriptions sometimes include times (which I don't want), sometimes have linebreaks, etc. We want to clean them up to just show the event name itself.\n",
    "\n",
    "\n",
    "Let's start by figuring out the start and end date problem. We basically want to turn the string '7-8' into the list `['7','8']`. We do that with the `split()` function, which takes as an argument the character to use to split on:"
   ]
  },
  {
   "cell_type": "code",
   "execution_count": 40,
   "metadata": {},
   "outputs": [
    {
     "data": {
      "text/plain": [
       "['7', '8']"
      ]
     },
     "execution_count": 40,
     "metadata": {},
     "output_type": "execute_result"
    }
   ],
   "source": [
    "'7-8'.split('-')"
   ]
  },
  {
   "cell_type": "markdown",
   "metadata": {},
   "source": [
    "We clean up the event names using the `strip()` function, which removes whitespace and using regular expressions to remove the time.\n",
    "\n",
    "[Regular expressions](https://docs.python.org/3.7/library/re.html) are a super powerful way of manipulating text and are worth learning. Unlike much of python, they are very difficult to parse so I'll take a minute to explain the following code:"
   ]
  },
  {
   "cell_type": "code",
   "execution_count": null,
   "metadata": {},
   "outputs": [],
   "source": [
    "re.sub('^\\d.*?[ap]\\.m\\.','',description_string.strip())"
   ]
  },
  {
   "cell_type": "markdown",
   "metadata": {},
   "source": [
    "`re.sub` is a function from the regular expression library that takes in 3 arguments: the regular expression pattern you want to search for, what you want to replace that pattern with, and the string where you want to search.\n",
    "\n",
    "The pattern `^\\d.*?[ap]\\.m\\.` finds a time if it appears at the beginning of some descriptions. They take various formats, such as '5:30p.m.' or '4 p.m.' and we need to capture all of them.\n",
    "\n",
    "`^` means to start searching at the beginning of the string<br/>\n",
    "`\\d` means that the first character is a digit (i.e., a number from 0-9)</br>\n",
    "`.` means look for any character, `*` means of any quantity, so `\\d.*` means to look for a number followed by zero or more characters of any type.<br/>\n",
    "`[ap]` means to look for either the 'a' or 'p' characters, and `[ap]\\.m\\.` means to look for 'a' or 'p', followed by a '.', followed by 'm', followed by another '.' (the `'\\'` characters mean to treat '.' like a normal '.' and not as a representation for any character).<br/>\n",
    "Finally, you may have noticed that I skipped the `?`: This means to take the previous expression and be 'non-greedy': in other words, make it as small as possible.\n",
    "\n",
    "An example may make this more clear:"
   ]
  },
  {
   "cell_type": "code",
   "execution_count": 97,
   "metadata": {},
   "outputs": [
    {
     "data": {
      "text/plain": [
       "'Lorem ipsum'"
      ]
     },
     "execution_count": 97,
     "metadata": {},
     "output_type": "execute_result"
    }
   ],
   "source": [
    "string = 'Lorem ipsum dolor'\n",
    "\n",
    "re.search('^L.*m', string).group(0)"
   ]
  },
  {
   "cell_type": "code",
   "execution_count": 98,
   "metadata": {},
   "outputs": [
    {
     "data": {
      "text/plain": [
       "'Lorem'"
      ]
     },
     "execution_count": 98,
     "metadata": {},
     "output_type": "execute_result"
    }
   ],
   "source": [
    "re.search('^L.*?m', string).group(0)"
   ]
  },
  {
   "cell_type": "markdown",
   "metadata": {},
   "source": [
    "In the first case, the pattern matches until the last m that it finds, while in the second it matches until the first m.\n",
    "\n",
    "So, taken together the original regular expression means, \"Look for a digit at the beginning of the string. Then, get all of the text until you come to either 'a.m.' or 'p.m.'.\" The next argument to `re.sub`, the empty string (''), means to remove the text that matches."
   ]
  },
  {
   "cell_type": "markdown",
   "metadata": {},
   "source": [
    "## Putting it together\n",
    "\n",
    "Here's some code that puts all of this together.\n",
    "\n",
    "After the first version of this, I realized that the dates go over multiple years and the year is not listed anywhere on the page, so we need to keep track of when we move into the next year. We do this by assuming that the start dates are in chronological order. By converting each event date into a datetime we can identify when the current entry is earlier than the last entry, and assume that means we've actually moved to the next year."
   ]
  },
  {
   "cell_type": "code",
   "execution_count": 99,
   "metadata": {},
   "outputs": [],
   "source": [
    "events = []\n",
    "curr_month = None\n",
    "curr_year = '2019'\n",
    "# Initialize to earliest possible date (used to change year)\n",
    "last_date = datetime.strptime('2019-01-01', '%Y-%m-%d')\n",
    "\n",
    "\n",
    "def get_start_end_dates(year, month, days):\n",
    "    '''\n",
    "    Function to convert strings of year, month, and days into a datetime object\n",
    "    \n",
    "    Input:\n",
    "        year: 4-digit string\n",
    "        month: Full name of month (e.g., 'January')\n",
    "        day: String of one date or two dates separated by '-'\n",
    "        \n",
    "    Output:\n",
    "        A tuple of datetime objects representing the start and end dates.\n",
    "        \n",
    "    Assumes that both days are within the same month.\n",
    "    '''\n",
    "    def get_date(day):\n",
    "        '''Very simple helper function that converts strings to a datetime'''\n",
    "        return datetime.strptime(month + day + year, '%B%d%Y')   \n",
    "    \n",
    "    days = days.split('-')\n",
    "    start_date = get_date(days[0])\n",
    "    end_date = get_date(days[-1])\n",
    "    return (start_date, end_date)\n",
    "\n",
    "for item in soup.find('div', 'maincontent').find_all('h4'):\n",
    "    curr_month = item.text\n",
    "    table = item.find_next_sibling()\n",
    "    for event in table.find_all('tr'):\n",
    "        day_string = event.find('td', 'day').text # Get the text from the table cell with the 'day' class\n",
    "        start_date, end_date = get_start_end_dates(curr_year, curr_month, day_string)\n",
    "        if start_date < last_date:\n",
    "            curr_year = '2020' # update the year if the current event is out of order\n",
    "            start_date, end_date = get_start_end_dates(curr_year, curr_month, day_string) # And get new start and end dates\n",
    "        last_date = start_date\n",
    "        description_string = event.find('td', 'description').text\n",
    "        description = re.sub('^\\d.*?[ap]\\.m\\.','',description_string.strip())\n",
    "        \n",
    "        # CSV format is given at https://support.google.com/calendar/answer/37118?hl=en\n",
    "        curr_event = {\n",
    "            'Subject': description,\n",
    "            'Start Date': start_date,\n",
    "            'End Date': end_date,\n",
    "            'All Day Event': True,\n",
    "            'Private': False\n",
    "        }\n",
    "        events.append(curr_event)\n",
    "        \n",
    "\n",
    "# We then use pandas simply to write the output to a CSV file\n",
    "pd.DataFrame(events).to_csv('/home/jeremy/Desktop/DeleteMe/purdue_cal.csv', \n",
    "                           index=False)\n",
    "        "
   ]
  },
  {
   "cell_type": "markdown",
   "metadata": {},
   "source": [
    "We'll take a quick look at the output to make sure it worked"
   ]
  },
  {
   "cell_type": "code",
   "execution_count": 101,
   "metadata": {},
   "outputs": [
    {
     "data": {
      "text/html": [
       "<div>\n",
       "<style scoped>\n",
       "    .dataframe tbody tr th:only-of-type {\n",
       "        vertical-align: middle;\n",
       "    }\n",
       "\n",
       "    .dataframe tbody tr th {\n",
       "        vertical-align: top;\n",
       "    }\n",
       "\n",
       "    .dataframe thead th {\n",
       "        text-align: right;\n",
       "    }\n",
       "</style>\n",
       "<table border=\"1\" class=\"dataframe\">\n",
       "  <thead>\n",
       "    <tr style=\"text-align: right;\">\n",
       "      <th></th>\n",
       "      <th>Subject</th>\n",
       "      <th>Start Date</th>\n",
       "      <th>End Date</th>\n",
       "      <th>All Day Event</th>\n",
       "      <th>Private</th>\n",
       "    </tr>\n",
       "  </thead>\n",
       "  <tbody>\n",
       "    <tr>\n",
       "      <th>52</th>\n",
       "      <td>Third 4-Week Summer Module Begins</td>\n",
       "      <td>2020-07-13</td>\n",
       "      <td>2020-07-13</td>\n",
       "      <td>True</td>\n",
       "      <td>False</td>\n",
       "    </tr>\n",
       "    <tr>\n",
       "      <th>17</th>\n",
       "      <td>COMMENCEMENT (First Division)</td>\n",
       "      <td>2019-12-15</td>\n",
       "      <td>2019-12-15</td>\n",
       "      <td>True</td>\n",
       "      <td>False</td>\n",
       "    </tr>\n",
       "    <tr>\n",
       "      <th>54</th>\n",
       "      <td>12-Week Full Summer Module Ends (Grades due by...</td>\n",
       "      <td>2020-08-07</td>\n",
       "      <td>2020-08-07</td>\n",
       "      <td>True</td>\n",
       "      <td>False</td>\n",
       "    </tr>\n",
       "    <tr>\n",
       "      <th>34</th>\n",
       "      <td>Deadline For Pending Spring 2019 Incomplete Gr...</td>\n",
       "      <td>2020-05-09</td>\n",
       "      <td>2020-05-09</td>\n",
       "      <td>True</td>\n",
       "      <td>False</td>\n",
       "    </tr>\n",
       "    <tr>\n",
       "      <th>6</th>\n",
       "      <td>Schedule of Classes published for Spring 2020 ...</td>\n",
       "      <td>2019-10-07</td>\n",
       "      <td>2019-10-07</td>\n",
       "      <td>True</td>\n",
       "      <td>False</td>\n",
       "    </tr>\n",
       "    <tr>\n",
       "      <th>56</th>\n",
       "      <td>Third 4-Week Summer Module Ends (Grades due by...</td>\n",
       "      <td>2020-08-07</td>\n",
       "      <td>2020-08-07</td>\n",
       "      <td>True</td>\n",
       "      <td>False</td>\n",
       "    </tr>\n",
       "    <tr>\n",
       "      <th>43</th>\n",
       "      <td>12-Week Full Summer Module Begins</td>\n",
       "      <td>2020-05-18</td>\n",
       "      <td>2020-05-18</td>\n",
       "      <td>True</td>\n",
       "      <td>False</td>\n",
       "    </tr>\n",
       "    <tr>\n",
       "      <th>18</th>\n",
       "      <td>COMMENCEMENT (Second Division)</td>\n",
       "      <td>2019-12-15</td>\n",
       "      <td>2019-12-15</td>\n",
       "      <td>True</td>\n",
       "      <td>False</td>\n",
       "    </tr>\n",
       "    <tr>\n",
       "      <th>1</th>\n",
       "      <td>Last Day to Register Without a Late Fee</td>\n",
       "      <td>2019-08-26</td>\n",
       "      <td>2019-08-26</td>\n",
       "      <td>True</td>\n",
       "      <td>False</td>\n",
       "    </tr>\n",
       "    <tr>\n",
       "      <th>23</th>\n",
       "      <td>Last Day to Cancel a Course Assignment Without...</td>\n",
       "      <td>2020-01-27</td>\n",
       "      <td>2020-01-27</td>\n",
       "      <td>True</td>\n",
       "      <td>False</td>\n",
       "    </tr>\n",
       "  </tbody>\n",
       "</table>\n",
       "</div>"
      ],
      "text/plain": [
       "                                              Subject  Start Date    End Date  \\\n",
       "52                  Third 4-Week Summer Module Begins  2020-07-13  2020-07-13   \n",
       "17                      COMMENCEMENT (First Division)  2019-12-15  2019-12-15   \n",
       "54  12-Week Full Summer Module Ends (Grades due by...  2020-08-07  2020-08-07   \n",
       "34  Deadline For Pending Spring 2019 Incomplete Gr...  2020-05-09  2020-05-09   \n",
       "6   Schedule of Classes published for Spring 2020 ...  2019-10-07  2019-10-07   \n",
       "56  Third 4-Week Summer Module Ends (Grades due by...  2020-08-07  2020-08-07   \n",
       "43                  12-Week Full Summer Module Begins  2020-05-18  2020-05-18   \n",
       "18                     COMMENCEMENT (Second Division)  2019-12-15  2019-12-15   \n",
       "1             Last Day to Register Without a Late Fee  2019-08-26  2019-08-26   \n",
       "23  Last Day to Cancel a Course Assignment Without...  2020-01-27  2020-01-27   \n",
       "\n",
       "    All Day Event  Private  \n",
       "52           True    False  \n",
       "17           True    False  \n",
       "54           True    False  \n",
       "34           True    False  \n",
       "6            True    False  \n",
       "56           True    False  \n",
       "43           True    False  \n",
       "18           True    False  \n",
       "1            True    False  \n",
       "23           True    False  "
      ]
     },
     "execution_count": 101,
     "metadata": {},
     "output_type": "execute_result"
    }
   ],
   "source": [
    "pd.read_csv('/home/jeremy/Desktop/DeleteMe/purdue_cal.csv').sample(10)"
   ]
  },
  {
   "cell_type": "markdown",
   "metadata": {},
   "source": [
    "It looks great, and works for events with different start and end dates. This is ready to upload to Google Calendar. But let's level up."
   ]
  },
  {
   "cell_type": "markdown",
   "metadata": {},
   "source": [
    "# Looping across pages\n",
    "\n",
    "If I knew I only wanted to get data this one time from this one page then what I have above would be just fine. However, there are calendars for multiple years and I'd like to get all of them. How could we extend what we've done?\n",
    "\n",
    "What I want to do is put the code into a function that I can call with different pages.\n",
    "\n",
    "So, what's missing to let us do that?\n",
    "\n",
    "First, we have the year hardcoded in - we need to figure out how to either extract it or take it as a parameter.\n",
    "\n",
    "Second, we need to aggregate the content before writing it to a CSV file.\n",
    "\n",
    "### Getting the year\n",
    "\n",
    "I noticed that the year is in the URL, so I'm thinking we can take the url as a parameter and just extract the year, like so:"
   ]
  },
  {
   "cell_type": "code",
   "execution_count": 46,
   "metadata": {},
   "outputs": [
    {
     "data": {
      "text/plain": [
       "'2019'"
      ]
     },
     "execution_count": 46,
     "metadata": {},
     "output_type": "execute_result"
    }
   ],
   "source": [
    "re.search('(\\d{4})-', 'https://www.purdue.edu/registrar/calendars/2019-20-Academic-Calendar.html').group(1)"
   ]
  },
  {
   "cell_type": "markdown",
   "metadata": {},
   "source": [
    "`\\d{4}` looks for a 4 digit number and the parentheses mean to put it in its own 'group'. The `-` means that the number has to come right before a dash.\n",
    "\n",
    "Then, at the end of the expression, `group(1)` means to return the first group that was in parentheses.\n",
    "\n",
    "To update the year, we'll need to take out the hardcoding. In order to increment a year that's a string we have to turn it into an integer, add 1 to it, and then turn it back into a string, like so:"
   ]
  },
  {
   "cell_type": "code",
   "execution_count": 1,
   "metadata": {},
   "outputs": [
    {
     "data": {
      "text/plain": [
       "'2021'"
      ]
     },
     "execution_count": 1,
     "metadata": {},
     "output_type": "execute_result"
    }
   ],
   "source": [
    "str(int('2020') + 1)"
   ]
  },
  {
   "cell_type": "markdown",
   "metadata": {},
   "source": [
    "### Aggregating the data\n",
    "\n",
    "In order to aggregate the data, we'll create a function that will get all of the events from one page and return them as a list of event dictionaries. We will have an outer loop that figures out which URLs to look at, passes them to the function, and then appends the events from each page together and saves them."
   ]
  },
  {
   "cell_type": "code",
   "execution_count": 2,
   "metadata": {},
   "outputs": [],
   "source": [
    "def get_events(url):\n",
    "    # Notice that the URL includes the year in it, so we can extract that\n",
    "    \n",
    "    doc = requests.get(url)\n",
    "    soup = BeautifulSoup(doc.text)\n",
    "\n",
    "    events = []\n",
    "    curr_month = None\n",
    "    curr_year = re.search('(\\d{4})-', url).group(1)\n",
    "    # Initialize to earliest possible date (used to change year)\n",
    "    last_date = datetime.strptime(curr_year + '-01-01', '%Y-%m-%d')\n",
    "\n",
    "\n",
    "    def get_start_end_dates(year, month, days):\n",
    "        '''\n",
    "        Function to convert strings of year, month, and days into a datetime object\n",
    "\n",
    "        Input:\n",
    "            year: 4-digit string\n",
    "            month: Full name of month (e.g., 'January')\n",
    "            day: String of one date or two dates separated by '-'\n",
    "\n",
    "        Output:\n",
    "            A tuple of datetime objects representing the start and end dates.\n",
    "\n",
    "        Assumes that both days are within the same month.\n",
    "        '''\n",
    "        \n",
    "        def get_date(day, month = month, year = year):\n",
    "            '''Very simple helper function that converts strings to a datetime'''\n",
    "            if not re.match('\\d', day): # If it doesn't start with a digit, it crosses months\n",
    "                month, day = day.split() # Split on whitespace and grab the month and day\n",
    "            try:\n",
    "                return datetime.strptime(month + day + year, '%B%d%Y')\n",
    "            except ValueError:\n",
    "                month = month.strip('.')\n",
    "                return datetime.strptime(month + day + year, '%b%d%Y')\n",
    "        \n",
    "        days = days.split('-')\n",
    "        start_date = get_date(days[0])\n",
    "        end_date = get_date(days[-1])\n",
    "        return (start_date, end_date)\n",
    "\n",
    "    for item in soup.find('div', 'maincontent').find_all('h4'):\n",
    "        curr_month = item.text\n",
    "        table = item.find_next_sibling()\n",
    "        for event in table.find_all('tr'):\n",
    "            day_string = event.find('td', 'day').text # Get the text from the table cell with the 'day' class\n",
    "            start_date, end_date = get_start_end_dates(curr_year, curr_month, day_string)\n",
    "            if start_date < last_date:\n",
    "                curr_year = str(int(curr_year) + 1) # update the year if the current event is out of order\n",
    "                start_date, end_date = get_start_end_dates(curr_year, curr_month, day_string)\n",
    "            last_date = start_date\n",
    "            description_string = event.find('td', 'description').text\n",
    "            description = re.sub('^\\d.*?[ap]\\.m\\.','',description_string.strip())\n",
    "\n",
    "            # CSV format is given at https://support.google.com/calendar/answer/37118?hl=en\n",
    "            curr_event = {\n",
    "                'Subject': description,\n",
    "                'Start Date': start_date,\n",
    "                'End Date': end_date,\n",
    "                'All Day Event': True,\n",
    "                'Private': False\n",
    "            }\n",
    "            events.append(curr_event)\n",
    "    return events # Return the list of all events\n"
   ]
  },
  {
   "cell_type": "markdown",
   "metadata": {},
   "source": [
    "Now we can write our outside function, which by convention is called 'main()'.\n",
    "\n",
    "Currently, Purdue lists calendars until 2024-2025; let's grab all of them.\n",
    "\n",
    "We can build a simple loop to create the URLs based on the structure we know they have"
   ]
  },
  {
   "cell_type": "code",
   "execution_count": 3,
   "metadata": {},
   "outputs": [
    {
     "name": "stdout",
     "output_type": "stream",
     "text": [
      "https://www.purdue.edu/registrar/calendars/2019-20-Academic-Calendar.html\n",
      "https://www.purdue.edu/registrar/calendars/2020-21-Academic-Calendar.html\n",
      "https://www.purdue.edu/registrar/calendars/2021-22-Academic-Calendar.html\n",
      "https://www.purdue.edu/registrar/calendars/2022-23-Academic-Calendar.html\n",
      "https://www.purdue.edu/registrar/calendars/2023-24-Academic-Calendar.html\n",
      "https://www.purdue.edu/registrar/calendars/2024-25-Academic-Calendar.html\n"
     ]
    }
   ],
   "source": [
    "for i in range(19, 25):\n",
    "    url = 'https://www.purdue.edu/registrar/calendars/20{}-{}-Academic-Calendar.html'.format(i, i+1)\n",
    "    print(url)"
   ]
  },
  {
   "cell_type": "code",
   "execution_count": 4,
   "metadata": {},
   "outputs": [],
   "source": [
    "def main(filename):\n",
    "    events = []\n",
    "    for i in range(19, 25):\n",
    "        url = 'https://www.purdue.edu/registrar/calendars/20{}-{}-Academic-Calendar.html'.format(i, i+1)\n",
    "        events = events + get_events(url)\n",
    "    \n",
    "    pd.DataFrame(events).to_csv(filename, \n",
    "                           index=False)"
   ]
  },
  {
   "cell_type": "markdown",
   "metadata": {},
   "source": [
    "As is often the case when enlarging the data you're retrieving, I found a weakness. In some of the future years, events actually go across multiple months. In these cases, the month was included in the day `td`, so the day list ended up being something like `['April 25', 'May 1']`. This made it super easy to fix - I just wrote a little regex to look if a day started with a number or a letter and to parse the month out if it started with a letter.\n",
    "\n",
    "I put the code in the `get_date` helper function above."
   ]
  },
  {
   "cell_type": "markdown",
   "metadata": {},
   "source": [
    "### Finally\n",
    "\n",
    "Ok, now we're finally ready to run it. We run the main function and then check the output to make sure it looks reasonable.\n",
    "\n",
    "After it's done, I'll use it to update my Google Calendar."
   ]
  },
  {
   "cell_type": "code",
   "execution_count": 87,
   "metadata": {},
   "outputs": [],
   "source": [
    "main('/home/jeremy/Documents/purdue_cal.csv')"
   ]
  },
  {
   "cell_type": "code",
   "execution_count": 90,
   "metadata": {},
   "outputs": [
    {
     "data": {
      "text/html": [
       "<div>\n",
       "<style scoped>\n",
       "    .dataframe tbody tr th:only-of-type {\n",
       "        vertical-align: middle;\n",
       "    }\n",
       "\n",
       "    .dataframe tbody tr th {\n",
       "        vertical-align: top;\n",
       "    }\n",
       "\n",
       "    .dataframe thead th {\n",
       "        text-align: right;\n",
       "    }\n",
       "</style>\n",
       "<table border=\"1\" class=\"dataframe\">\n",
       "  <thead>\n",
       "    <tr style=\"text-align: right;\">\n",
       "      <th></th>\n",
       "      <th>Subject</th>\n",
       "      <th>Start Date</th>\n",
       "      <th>End Date</th>\n",
       "      <th>All Day Event</th>\n",
       "      <th>Private</th>\n",
       "    </tr>\n",
       "  </thead>\n",
       "  <tbody>\n",
       "    <tr>\n",
       "      <th>37</th>\n",
       "      <td>COMMENCEMENT (Second Division)</td>\n",
       "      <td>2020-05-15</td>\n",
       "      <td>2020-05-15</td>\n",
       "      <td>True</td>\n",
       "      <td>False</td>\n",
       "    </tr>\n",
       "    <tr>\n",
       "      <th>131</th>\n",
       "      <td>SEMESTER ENDS</td>\n",
       "      <td>2021-12-18</td>\n",
       "      <td>2021-12-18</td>\n",
       "      <td>True</td>\n",
       "      <td>False</td>\n",
       "    </tr>\n",
       "    <tr>\n",
       "      <th>152</th>\n",
       "      <td>COMMENCEMENT (First Division)**</td>\n",
       "      <td>2022-05-13</td>\n",
       "      <td>2022-05-13</td>\n",
       "      <td>True</td>\n",
       "      <td>False</td>\n",
       "    </tr>\n",
       "    <tr>\n",
       "      <th>341</th>\n",
       "      <td>Second 4-Week Summer Module Ends (Grades due b...</td>\n",
       "      <td>2025-07-11</td>\n",
       "      <td>2025-07-11</td>\n",
       "      <td>True</td>\n",
       "      <td>False</td>\n",
       "    </tr>\n",
       "    <tr>\n",
       "      <th>282</th>\n",
       "      <td>First 8-Week Summer Module Ends (Grades due by...</td>\n",
       "      <td>2024-07-05</td>\n",
       "      <td>2024-07-05</td>\n",
       "      <td>True</td>\n",
       "      <td>False</td>\n",
       "    </tr>\n",
       "    <tr>\n",
       "      <th>26</th>\n",
       "      <td>Second Eight-Week Courses Begin</td>\n",
       "      <td>2020-03-09</td>\n",
       "      <td>2020-03-09</td>\n",
       "      <td>True</td>\n",
       "      <td>False</td>\n",
       "    </tr>\n",
       "    <tr>\n",
       "      <th>40</th>\n",
       "      <td>COMMENCEMENT (Fifth Division)</td>\n",
       "      <td>2020-05-17</td>\n",
       "      <td>2020-05-17</td>\n",
       "      <td>True</td>\n",
       "      <td>False</td>\n",
       "    </tr>\n",
       "    <tr>\n",
       "      <th>25</th>\n",
       "      <td>Last Day For Grade Correction For Fall Semest...</td>\n",
       "      <td>2020-02-24</td>\n",
       "      <td>2020-02-24</td>\n",
       "      <td>True</td>\n",
       "      <td>False</td>\n",
       "    </tr>\n",
       "    <tr>\n",
       "      <th>186</th>\n",
       "      <td>CLASSES END</td>\n",
       "      <td>2022-12-10</td>\n",
       "      <td>2022-12-10</td>\n",
       "      <td>True</td>\n",
       "      <td>False</td>\n",
       "    </tr>\n",
       "    <tr>\n",
       "      <th>234</th>\n",
       "      <td>Last Day to Cancel a Course Assignment Without...</td>\n",
       "      <td>2023-09-04</td>\n",
       "      <td>2023-09-04</td>\n",
       "      <td>True</td>\n",
       "      <td>False</td>\n",
       "    </tr>\n",
       "    <tr>\n",
       "      <th>326</th>\n",
       "      <td>COMMENCEMENT (First Division)**</td>\n",
       "      <td>2025-05-16</td>\n",
       "      <td>2025-05-16</td>\n",
       "      <td>True</td>\n",
       "      <td>False</td>\n",
       "    </tr>\n",
       "    <tr>\n",
       "      <th>88</th>\n",
       "      <td>Spring Vacation</td>\n",
       "      <td>2021-03-15</td>\n",
       "      <td>2021-03-20</td>\n",
       "      <td>True</td>\n",
       "      <td>False</td>\n",
       "    </tr>\n",
       "    <tr>\n",
       "      <th>246</th>\n",
       "      <td>FINAL EXAMS</td>\n",
       "      <td>2023-12-11</td>\n",
       "      <td>2023-12-16</td>\n",
       "      <td>True</td>\n",
       "      <td>False</td>\n",
       "    </tr>\n",
       "    <tr>\n",
       "      <th>160</th>\n",
       "      <td>First 4-Week Summer Module Begins</td>\n",
       "      <td>2022-05-16</td>\n",
       "      <td>2022-05-16</td>\n",
       "      <td>True</td>\n",
       "      <td>False</td>\n",
       "    </tr>\n",
       "    <tr>\n",
       "      <th>183</th>\n",
       "      <td>Last Day To Withdraw From a Course With a W or...</td>\n",
       "      <td>2022-10-25</td>\n",
       "      <td>2022-10-25</td>\n",
       "      <td>True</td>\n",
       "      <td>False</td>\n",
       "    </tr>\n",
       "  </tbody>\n",
       "</table>\n",
       "</div>"
      ],
      "text/plain": [
       "                                               Subject  Start Date  \\\n",
       "37                      COMMENCEMENT (Second Division)  2020-05-15   \n",
       "131                                      SEMESTER ENDS  2021-12-18   \n",
       "152                    COMMENCEMENT (First Division)**  2022-05-13   \n",
       "341  Second 4-Week Summer Module Ends (Grades due b...  2025-07-11   \n",
       "282  First 8-Week Summer Module Ends (Grades due by...  2024-07-05   \n",
       "26                     Second Eight-Week Courses Begin  2020-03-09   \n",
       "40                       COMMENCEMENT (Fifth Division)  2020-05-17   \n",
       "25    Last Day For Grade Correction For Fall Semest...  2020-02-24   \n",
       "186                                        CLASSES END  2022-12-10   \n",
       "234  Last Day to Cancel a Course Assignment Without...  2023-09-04   \n",
       "326                    COMMENCEMENT (First Division)**  2025-05-16   \n",
       "88                                     Spring Vacation  2021-03-15   \n",
       "246                                        FINAL EXAMS  2023-12-11   \n",
       "160                  First 4-Week Summer Module Begins  2022-05-16   \n",
       "183  Last Day To Withdraw From a Course With a W or...  2022-10-25   \n",
       "\n",
       "       End Date  All Day Event  Private  \n",
       "37   2020-05-15           True    False  \n",
       "131  2021-12-18           True    False  \n",
       "152  2022-05-13           True    False  \n",
       "341  2025-07-11           True    False  \n",
       "282  2024-07-05           True    False  \n",
       "26   2020-03-09           True    False  \n",
       "40   2020-05-17           True    False  \n",
       "25   2020-02-24           True    False  \n",
       "186  2022-12-10           True    False  \n",
       "234  2023-09-04           True    False  \n",
       "326  2025-05-16           True    False  \n",
       "88   2021-03-20           True    False  \n",
       "246  2023-12-16           True    False  \n",
       "160  2022-05-16           True    False  \n",
       "183  2022-10-25           True    False  "
      ]
     },
     "execution_count": 90,
     "metadata": {},
     "output_type": "execute_result"
    }
   ],
   "source": [
    "# Look at some random rows to see how it looks\n",
    "pd.read_csv('/home/jeremy/Documents/purdue_cal.csv').sample(15)"
   ]
  },
  {
   "cell_type": "markdown",
   "metadata": {},
   "source": [
    "## Conclusion\n",
    "\n",
    "So, that is a basic introduction to BeautifulSoup and to using it to parse web pages.\n",
    "\n",
    "As you can see, it's a really powerful tool. In this case, I could have done the work manually probably in less time than it took me to write this script but imagine having hundreds or thousands or more web pages to parse. This kind of scripting can save hundreds of hours of time. And, it's fun!"
   ]
  }
 ],
 "metadata": {
  "kernelspec": {
   "display_name": "Python 3",
   "language": "python",
   "name": "python3"
  },
  "language_info": {
   "codemirror_mode": {
    "name": "ipython",
    "version": 3
   },
   "file_extension": ".py",
   "mimetype": "text/x-python",
   "name": "python",
   "nbconvert_exporter": "python",
   "pygments_lexer": "ipython3",
   "version": "3.6.8"
  }
 },
 "nbformat": 4,
 "nbformat_minor": 4
}
